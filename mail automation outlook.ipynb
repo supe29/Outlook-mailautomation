{
 "cells": [
  {
   "cell_type": "code",
   "execution_count": null,
   "id": "6ee236b0",
   "metadata": {},
   "outputs": [],
   "source": [
    "2"
   ]
  },
  {
   "cell_type": "code",
   "execution_count": null,
   "id": "23cf1b4f",
   "metadata": {},
   "outputs": [],
   "source": [
    "import pandas as pd\n",
    "import numpy as np\n",
    "from pathlib import Path\n",
    "import datetime,time,pathlib\n",
    "import win32com.client as win32\n",
    "import plotly.express as px\n"
   ]
  },
  {
   "cell_type": "code",
   "execution_count": null,
   "id": "be8ab87a",
   "metadata": {},
   "outputs": [],
   "source": [
    "import matplotlib.pyplot as plt"
   ]
  },
  {
   "cell_type": "code",
   "execution_count": null,
   "id": "884ab938",
   "metadata": {},
   "outputs": [],
   "source": [
    "df = pd.read_excel('')\n"
   ]
  },
  {
   "cell_type": "markdown",
   "id": "884770cd",
   "metadata": {},
   "source": [
    "# without join\n"
   ]
  },
  {
   "cell_type": "code",
   "execution_count": null,
   "id": "ef7ec4bb",
   "metadata": {},
   "outputs": [],
   "source": [
    "user= df.query(\"USER_ID == 101263770\")\n",
    "training_data=user[[\"TRAINING_TITLE\", \"COMPLETION_DATE\", \"LEARNING_HOURS\"]]\n",
    "user= df.query(\"USER_ID == 101263770\")\n",
    "training_data=user[[\"TRAINING_TITLE\", \"COMPLETION_DATE\", \"LEARNING_HOURS\"]]\n",
    "train2=training_data.groupby('COMPLETION_DATE').agg({'TRAINING_TITLE':\"sum\", \n",
    "                         'LEARNING_HOURS':'sum'})\n",
    "train2"
   ]
  },
  {
   "cell_type": "code",
   "execution_count": null,
   "id": "68e78723",
   "metadata": {},
   "outputs": [],
   "source": [
    "labels = train2[\"TRAINING_TITLE\"]\n",
    "sizes = train2[\"LEARNING_HOURS\"]\n",
    "explode = train1[\"LEARNING_HOURS\"]\n",
    "#explode = (0, 0.1, 0, 0)  # only \"explode\" the 2nd slice (i.e. 'Hogs')\n",
    "\n",
    "fig1, ax1 = plt.subplots()\n",
    "ax1.pie(sizes, explode=explode, labels=labels, autopct='%1.1f%%',\n",
    "        shadow=True, startangle=90)\n",
    "ax1.axis('equal')  # Equal aspect ratio ensures that pie is drawn as a circle.\n",
    "\n",
    "plt.show()"
   ]
  },
  {
   "cell_type": "code",
   "execution_count": null,
   "id": "fcbb6b98",
   "metadata": {},
   "outputs": [],
   "source": [
    "fig = plt.figure()\n",
    "ax = fig.add_axes([0,0,1,1])\n",
    "labels = train2[\"TRAINING_TITLE\"]\n",
    "sizes = train2[\"LEARNING_HOURS\"]\n",
    "ax.barh(labels,sizes)\n",
    "hbars = ax.barh(labels, sizes, align='center')\n",
    "ax.bar_label(hbars, fmt='%.2f')\n",
    "ax.set_xlim(right=15)  # adjust xlim to fit labels\n",
    "plt.figure(figsize=(30,30))\n",
    "plt.show()\n",
    "plt.savefig('chart.png')"
   ]
  },
  {
   "cell_type": "markdown",
   "id": "f0b9d33f",
   "metadata": {},
   "source": [
    "# With join"
   ]
  },
  {
   "cell_type": "code",
   "execution_count": null,
   "id": "c5d9b8d2",
   "metadata": {},
   "outputs": [],
   "source": [
    "user= df.query(\"USER_ID == 101263770\")\n",
    "training_data=user[[\"TRAINING_TITLE\", \"COMPLETION_DATE\", \"LEARNING_HOURS\"]]\n",
    "train1=training_data.groupby('COMPLETION_DATE').agg({'TRAINING_TITLE':lambda x: ','.join(x), \n",
    "                         'LEARNING_HOURS':'sum'})\n",
    "train1"
   ]
  },
  {
   "cell_type": "markdown",
   "id": "30f9fd01",
   "metadata": {},
   "source": [
    "# Mail creation "
   ]
  },
  {
   "cell_type": "code",
   "execution_count": null,
   "id": "c0ff5c4f",
   "metadata": {},
   "outputs": [],
   "source": [
    "#coonection to outlook api\n",
    "olApp = win32.Dispatch('Outlook.Application')\n",
    "olNS = olApp.GetNameSpace('MAPI')\n"
   ]
  },
  {
   "cell_type": "markdown",
   "id": "457c2c27",
   "metadata": {},
   "source": [
    "# HTML body with table"
   ]
  },
  {
   "cell_type": "code",
   "execution_count": null,
   "id": "b22f6c2a",
   "metadata": {},
   "outputs": [],
   "source": [
    "body = '''\\\n",
    "<html>\n",
    "    <head></head> \n",
    "    <body>\n",
    "        <p›Hello All, <br>\n",
    "            <p>Please find the details<br>\n",
    "            <div class=\"container\">\n",
    "                    <img src=\"C:\\\\Users\\\\'kaust'\\\\graphmail.png\" style=\"width:100%\"/>\n",
    "            </div>\n",
    "                    \n",
    "            <body>''' + train1.to_html() + '''</br></body>\n",
    "            <font color =\"blue\">\n",
    "            <br>Thanks</br>\n",
    "            </font> \n",
    "            <br></br>\n",
    "            <br></br>\n",
    "            <br></br>\n",
    "            <font color=\"red\">\n",
    "            Please note this is an automated mail<t1>\n",
    "            </font>\n",
    "        </p>\n",
    "    </body>\n",
    "    </style>\n",
    "</html>\n",
    "\n",
    "'''"
   ]
  },
  {
   "cell_type": "code",
   "execution_count": null,
   "id": "35d82e9a",
   "metadata": {},
   "outputs": [],
   "source": [
    "print(body)"
   ]
  },
  {
   "cell_type": "markdown",
   "id": "5ad478e3",
   "metadata": {},
   "source": [
    "# HTML body with image\n"
   ]
  },
  {
   "cell_type": "code",
   "execution_count": null,
   "id": "e1f6d143",
   "metadata": {},
   "outputs": [],
   "source": [
    "body = '''\\\n",
    "<html>\n",
    "    <head></head> \n",
    "    <body>\n",
    "        <p›Hello All, <br>\n",
    "            <p>Please find the details<br> \n",
    "            <img src=\"C:\\\\Users\\\\'kaust'\\\\graphmail.jpg\" style=\"width:100%\"/>\n",
    "            <font color =\"blue\">\n",
    "            <br>Thanks</br>\n",
    "            </font> \n",
    "            <br></br>\n",
    "            <br></br>\n",
    "            <br></br>\n",
    "            <font color=\"red\">\n",
    "            Please note this is an automated mail<t1>\n",
    "            </font>\n",
    "        </p>\n",
    "    </body>\n",
    "    </style>\n",
    "</html>\n",
    "\n",
    "'''\n",
    "mailItem = olApp.CreateItem(0)\n",
    "mailItem.Subject = 'Dummy'\n",
    "#mailItem.BodyFormat = 1\n",
    "#mailItem.Body = \"testing report attached \"\n",
    "mailItem.To= 'divya.dev.mittal@pwc.com'\n",
    "mailItem.HTMLBody = body\n",
    "#mailItem.Attachements.add(\"PythonAutomation.csv\")\n",
    "\n",
    "mailItem.Display()\n",
    "mailItem.Save()\n",
    "\n",
    "#mailItem.Send()\n"
   ]
  },
  {
   "cell_type": "code",
   "execution_count": null,
   "id": "f7d6b016",
   "metadata": {},
   "outputs": [],
   "source": [
    "body = '''\\\n",
    "<html>\n",
    "    <head></head> \n",
    "    <body>\n",
    "        <p›Hello All, <br>\n",
    "            <p>Please find the details<br>\n",
    "             <div class=\"container\">\n",
    "                    <body>''' + train1.to_html() + '''</br></body>\n",
    "            </div>\n",
    "            <div class=\"container\">\n",
    "                    <h1>analysis</h1><img src=\"C:\\\\Users\\\\kaust\\\\graphmail.jpg\">\n",
    "            </div>\n",
    "            <font color =\"blue\">\n",
    "            <br>Thanks</br>\n",
    "            </font> \n",
    "            <br></br>\n",
    "            <br></br>\n",
    "            <br></br>\n",
    "            <font color=\"red\">\n",
    "            Please note this is an automated mail<t1>\n",
    "            </font>\n",
    "        </p>\n",
    "    </body>\n",
    "    </style>\n",
    "</html>\n",
    "\n",
    "'''\n",
    "mailItem = olApp.CreateItem(0)\n",
    "mailItem.Subject = 'Dummy'\n",
    "#mailItem.BodyFormat = 1\n",
    "#mailItem.Body = \"testing report attached \"\n",
    "mailItem.To= 'divya.dev.mittal@pwc.com'\n",
    "mailItem.HTMLBody = body\n",
    "#mailItem.Attachements.add(\"PythonAutomation.csv\")\n",
    "\n",
    "mailItem.Display()\n",
    "mailItem.Save()\n",
    "\n",
    "#mailItem.Send()\n"
   ]
  },
  {
   "cell_type": "code",
   "execution_count": null,
   "id": "d56b1ed3",
   "metadata": {},
   "outputs": [],
   "source": [
    "mailItem = olApp.CreateItem(0)\n",
    "mailItem.Subject = 'Dummy'\n",
    "#mailItem.BodyFormat = 1\n",
    "#mailItem.Body = \"testing report attached \"\n",
    "mailItem.To= 'divya.dev.mittal@pwc.com'\n",
    "mailItem.HTMLBody = '<h1>imge try</h1><img src=\"C:\\\\Users\\\\kaust\\\\graphmail.jpg\">'\n",
    "#mailItem.Attachements.add(\"PythonAutomation.csv\")\n",
    "\n",
    "mailItem.Display()\n",
    "mailItem.Save()\n",
    "\n",
    "#mailItem.Send()\n"
   ]
  },
  {
   "cell_type": "markdown",
   "id": "5cc9c409",
   "metadata": {},
   "source": [
    "# mail formation and sending\n"
   ]
  },
  {
   "cell_type": "code",
   "execution_count": null,
   "id": "27e3b36e",
   "metadata": {},
   "outputs": [],
   "source": [
    "unque_id = \"USER_ID\"\n",
    "unique_values = df[unque_id].unique()\n",
    "user= df.query(\"USER_ID == 101263770\")\n",
    "training_data=user[[\"TRAINING_TITLE\", \"COMPLETION_DATE\", \"LEARNING_HOURS\"]]\n",
    "for unique_values in unique_values:\n",
    "    print(unique_values)\n",
    "    user= df.query(f\"{unque_id} == @unique_values\")\n",
    "    training_data=user[[\"TRAINING_TITLE\", \"COMPLETION_DATE\", \"LEARNING_HOURS\"]]   \n",
    "    print(training_data.groupby('COMPLETION_DATE').agg({'TRAINING_TITLE':lambda x: ','.join(x), \n",
    "                         'LEARNING_HOURS':'sum'}))\n",
    "    fig = plt.figure()\n",
    "    ax = fig.add_axes([0,0,1,1])\n",
    "    labels = training_data[\"TRAINING_TITLE\"]\n",
    "    sizes = training_data[\"LEARNING_HOURS\"]\n",
    "    ax.barh(labels,sizes)\n",
    "    hbars = ax.barh(labels, sizes, align='center')\n",
    "    ax.bar_label(hbars, fmt='%.2f')\n",
    "    ax.set_xlim(right=15)  # adjust xlim to fit labels\n",
    "    plt.figure(figsize=(30,30))\n",
    "    plt.show()"
   ]
  },
  {
   "cell_type": "code",
   "execution_count": null,
   "id": "040dcd25",
   "metadata": {},
   "outputs": [],
   "source": []
  }
 ],
 "metadata": {
  "kernelspec": {
   "display_name": "Python 3 (ipykernel)",
   "language": "python",
   "name": "python3"
  },
  "language_info": {
   "codemirror_mode": {
    "name": "ipython",
    "version": 3
   },
   "file_extension": ".py",
   "mimetype": "text/x-python",
   "name": "python",
   "nbconvert_exporter": "python",
   "pygments_lexer": "ipython3",
   "version": "3.9.13"
  },
  "toc": {
   "base_numbering": 1,
   "nav_menu": {},
   "number_sections": true,
   "sideBar": true,
   "skip_h1_title": false,
   "title_cell": "Table of Contents",
   "title_sidebar": "Contents",
   "toc_cell": false,
   "toc_position": {},
   "toc_section_display": true,
   "toc_window_display": false
  }
 },
 "nbformat": 4,
 "nbformat_minor": 5
}
